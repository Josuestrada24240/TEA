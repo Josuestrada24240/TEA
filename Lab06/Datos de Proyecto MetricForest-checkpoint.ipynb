{
 "cells": [
  {
   "cell_type": "code",
   "execution_count": 1,
   "id": "6fea3aca",
   "metadata": {},
   "outputs": [],
   "source": [
    "#Análisis de Datos del Proyecto MetricForest "
   ]
  },
  {
   "cell_type": "code",
   "execution_count": 2,
   "id": "612502c2",
   "metadata": {},
   "outputs": [],
   "source": [
    "import pandas as pd"
   ]
  },
  {
   "cell_type": "code",
   "execution_count": 12,
   "id": "72f99127",
   "metadata": {},
   "outputs": [],
   "source": [
    "from matplotlib import pyplot as plt "
   ]
  },
  {
   "cell_type": "code",
   "execution_count": 15,
   "id": "db430e25",
   "metadata": {},
   "outputs": [],
   "source": [
    "datos = pd.read_csv(\"fuente.csv\")"
   ]
  },
  {
   "cell_type": "code",
   "execution_count": 16,
   "id": "6db56a64",
   "metadata": {},
   "outputs": [
    {
     "data": {
      "text/html": [
       "<div>\n",
       "<style scoped>\n",
       "    .dataframe tbody tr th:only-of-type {\n",
       "        vertical-align: middle;\n",
       "    }\n",
       "\n",
       "    .dataframe tbody tr th {\n",
       "        vertical-align: top;\n",
       "    }\n",
       "\n",
       "    .dataframe thead th {\n",
       "        text-align: right;\n",
       "    }\n",
       "</style>\n",
       "<table border=\"1\" class=\"dataframe\">\n",
       "  <thead>\n",
       "    <tr style=\"text-align: right;\">\n",
       "      <th></th>\n",
       "      <th>Sector;Grupo;Sendero;Distancia (m);Parcela;Árbol;Especie;DAP (cm);HT (m);HC (m);LD; AB (m2)</th>\n",
       "    </tr>\n",
       "  </thead>\n",
       "  <tbody>\n",
       "    <tr>\n",
       "      <th>0</th>\n",
       "      <td>I;1;2;150;1;1;Encino;5.1; 4.91;1.79;0;0.0020</td>\n",
       "    </tr>\n",
       "    <tr>\n",
       "      <th>1</th>\n",
       "      <td>I;1;2;150;1;2;Encino;9.4; 7.77;3.07;0;0.0069</td>\n",
       "    </tr>\n",
       "    <tr>\n",
       "      <th>2</th>\n",
       "      <td>I;1;2;150;1;3;Roble;25.6; 11.91;6.79;1;0.0515</td>\n",
       "    </tr>\n",
       "    <tr>\n",
       "      <th>3</th>\n",
       "      <td>I;1;2;150;1;4;Nance;6.7; 7.58;;0;0.0035</td>\n",
       "    </tr>\n",
       "    <tr>\n",
       "      <th>4</th>\n",
       "      <td>I;1;2;150;1;5;Roble;23.3; 11.94;6.06;0;0.0426</td>\n",
       "    </tr>\n",
       "    <tr>\n",
       "      <th>...</th>\n",
       "      <td>...</td>\n",
       "    </tr>\n",
       "    <tr>\n",
       "      <th>520</th>\n",
       "      <td>III;10;26;10;5;9;Encino;9.5;5.6261;3.048;0;0.0071</td>\n",
       "    </tr>\n",
       "    <tr>\n",
       "      <th>521</th>\n",
       "      <td>III;10;26;10;5;10;Carbón;8;5.2451;;0;0.0050</td>\n",
       "    </tr>\n",
       "    <tr>\n",
       "      <th>522</th>\n",
       "      <td>III;10;26;10;5;11;Carbón;5.3;3.2131;;0;0.0022</td>\n",
       "    </tr>\n",
       "    <tr>\n",
       "      <th>523</th>\n",
       "      <td>III;10;26;10;5;12;Encino;9.5;6.6421;2.1336;1;0...</td>\n",
       "    </tr>\n",
       "    <tr>\n",
       "      <th>524</th>\n",
       "      <td>III;10;26;10;5;13;Molinillo;9.5;4.4704;;0;0.0071</td>\n",
       "    </tr>\n",
       "  </tbody>\n",
       "</table>\n",
       "<p>525 rows × 1 columns</p>\n",
       "</div>"
      ],
      "text/plain": [
       "    Sector;Grupo;Sendero;Distancia (m);Parcela;Árbol;Especie;DAP (cm);HT (m);HC (m);LD; AB (m2)\n",
       "0         I;1;2;150;1;1;Encino;5.1; 4.91;1.79;0;0.0020                                         \n",
       "1         I;1;2;150;1;2;Encino;9.4; 7.77;3.07;0;0.0069                                         \n",
       "2        I;1;2;150;1;3;Roble;25.6; 11.91;6.79;1;0.0515                                         \n",
       "3              I;1;2;150;1;4;Nance;6.7; 7.58;;0;0.0035                                         \n",
       "4        I;1;2;150;1;5;Roble;23.3; 11.94;6.06;0;0.0426                                         \n",
       "..                                                 ...                                         \n",
       "520  III;10;26;10;5;9;Encino;9.5;5.6261;3.048;0;0.0071                                         \n",
       "521        III;10;26;10;5;10;Carbón;8;5.2451;;0;0.0050                                         \n",
       "522      III;10;26;10;5;11;Carbón;5.3;3.2131;;0;0.0022                                         \n",
       "523  III;10;26;10;5;12;Encino;9.5;6.6421;2.1336;1;0...                                         \n",
       "524   III;10;26;10;5;13;Molinillo;9.5;4.4704;;0;0.0071                                         \n",
       "\n",
       "[525 rows x 1 columns]"
      ]
     },
     "execution_count": 16,
     "metadata": {},
     "output_type": "execute_result"
    }
   ],
   "source": [
    "datos "
   ]
  },
  {
   "cell_type": "code",
   "execution_count": null,
   "id": "9afbd2e0",
   "metadata": {},
   "outputs": [],
   "source": []
  }
 ],
 "metadata": {
  "kernelspec": {
   "display_name": "Python 3 (ipykernel)",
   "language": "python",
   "name": "python3"
  },
  "language_info": {
   "codemirror_mode": {
    "name": "ipython",
    "version": 3
   },
   "file_extension": ".py",
   "mimetype": "text/x-python",
   "name": "python",
   "nbconvert_exporter": "python",
   "pygments_lexer": "ipython3",
   "version": "3.9.13"
  }
 },
 "nbformat": 4,
 "nbformat_minor": 5
}
